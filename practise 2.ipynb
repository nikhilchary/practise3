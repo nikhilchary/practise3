{
 "cells": [
  {
   "cell_type": "markdown",
   "metadata": {},
   "source": [
    "9Exercise Question 1: Given a string of odd length greater 7, return a string made of the middle three chars of a given String"
   ]
  },
  {
   "cell_type": "code",
   "execution_count": 10,
   "metadata": {},
   "outputs": [
    {
     "name": "stdout",
     "output_type": "stream",
     "text": [
      "original string is  JhonDipPeta\n",
      "middle three chars are Dip\n",
      "None\n",
      "original string is  cmamathanaidu\n",
      "middle three chars are tha\n",
      "None\n"
     ]
    }
   ],
   "source": [
    "def midvalue(odd):\n",
    "    print('original string is ',odd)\n",
    "    mid=int(len(odd)/2)\n",
    "    print('middle three chars are',odd[mid-1:mid+2])\n",
    "\n",
    "print(midvalue(\"JhonDipPeta\"))\n",
    "print(midvalue('cmamathanaidu'))"
   ]
  },
  {
   "cell_type": "code",
   "execution_count": null,
   "metadata": {},
   "outputs": [],
   "source": []
  },
  {
   "cell_type": "markdown",
   "metadata": {},
   "source": [
    "Exercise Question 2: Given 2 strings, s1 and s2, create a new string by appending s2 in the middle of s1"
   ]
  },
  {
   "cell_type": "code",
   "execution_count": 21,
   "metadata": {},
   "outputs": [
    {
     "name": "stdout",
     "output_type": "stream",
     "text": [
      "mamathacherukurinaidu\n"
     ]
    }
   ],
   "source": [
    "def appstr(s1,s2):\n",
    "    mid=int(len(s1)/2)\n",
    "    midle=s1[:mid+1]+s2+s1[mid+1:]\n",
    "    print(midle)\n",
    "\n",
    "appstr(\"mamathanaidu\",\"cherukuri\")    \n",
    "    "
   ]
  },
  {
   "cell_type": "code",
   "execution_count": null,
   "metadata": {},
   "outputs": [],
   "source": []
  },
  {
   "cell_type": "markdown",
   "metadata": {},
   "source": [
    "Exercise Question 3: Given 2 strings, s1, and s2 return a new string made of the first, middle and last char each input string"
   ]
  },
  {
   "cell_type": "code",
   "execution_count": 13,
   "metadata": {},
   "outputs": [
    {
     "name": "stdout",
     "output_type": "stream",
     "text": [
      "Ajrpan\n",
      "None\n"
     ]
    }
   ],
   "source": [
    "def mix(a,b):\n",
    "   \n",
    "    mix1=(a[0]+b[0]+a[int(len(a)/2)]+b[int(len(b)/2)]+a[-1]+b[-1])\n",
    "    print(mix1)\n",
    "print(mix('America','japan'))\n",
    "    "
   ]
  },
  {
   "cell_type": "code",
   "execution_count": null,
   "metadata": {},
   "outputs": [],
   "source": []
  },
  {
   "cell_type": "markdown",
   "metadata": {},
   "source": [
    "Exercise Question 4: arrange String characters such that lowercase letters should come first"
   ]
  },
  {
   "cell_type": "code",
   "execution_count": 19,
   "metadata": {},
   "outputs": [
    {
     "name": "stdout",
     "output_type": "stream",
     "text": [
      "APTiggsf\n",
      "['i', 'g', 'g', 's', 'f', 'A', 'P', 'T']\n"
     ]
    }
   ],
   "source": [
    "x=input()\n",
    "low=[]\n",
    "up=[]\n",
    "sp=x.split()\n",
    "for char in x:\n",
    "    if char.islower():\n",
    "        low.append(char)\n",
    "    else :\n",
    "        up.append(char)\n",
    "print(low+up)"
   ]
  },
  {
   "cell_type": "code",
   "execution_count": null,
   "metadata": {},
   "outputs": [],
   "source": []
  },
  {
   "cell_type": "markdown",
   "metadata": {},
   "source": [
    "Exercise Question 5: Given a string input Count all lower case, upper case, digits, and special symbols"
   ]
  },
  {
   "cell_type": "code",
   "execution_count": 5,
   "metadata": {},
   "outputs": [
    {
     "name": "stdout",
     "output_type": "stream",
     "text": [
      "enter some words:P@#yn26at^&i5ve\n",
      "8\n",
      "3\n",
      "4\n"
     ]
    }
   ],
   "source": [
    "\n",
    "y=input('enter some words:')\n",
    "chars=0\n",
    "digits=0\n",
    "symbols=0\n",
    "sp=y.split()\n",
    "for i in y:\n",
    "    if i.islower() or i.isupper():\n",
    "        chars+=1\n",
    "    elif i.isnumeric():\n",
    "        digits+=1\n",
    "    else:\n",
    "        symbols+=1\n",
    "print(chars)\n",
    "print(digits)\n",
    "print(symbols)\n",
    "        \n"
   ]
  },
  {
   "cell_type": "code",
   "execution_count": null,
   "metadata": {},
   "outputs": [],
   "source": []
  },
  {
   "cell_type": "markdown",
   "metadata": {},
   "source": [
    "Exercise Question 6: Given two strings, s1 and s2, create a mixed String"
   ]
  },
  {
   "cell_type": "code",
   "execution_count": 3,
   "metadata": {},
   "outputs": [
    {
     "name": "stdout",
     "output_type": "stream",
     "text": [
      "lwiehbksiinte\n"
     ]
    }
   ],
   "source": [
    "def mxstr(s3,s4):\n",
    "    s3=s3[::-1]\n",
    "    lengths3=len(s3)\n",
    "    lengths4=len(s4)\n",
    "    length= lengths3 if lengths3 > lengths4 else lengths4\n",
    "    resultString=\"\"\n",
    "    for i in range(length):\n",
    "        if(i < lengths3):\n",
    "            resultString = resultString + s3[i]\n",
    "        if(i < lengths4):\n",
    "            resultString = resultString + s4[i]\n",
    "    \n",
    "    print(resultString)\n",
    "s3='nikhil'\n",
    "s4='website'\n",
    "mxstr(s3,s4)\n",
    "    \n",
    "    "
   ]
  },
  {
   "cell_type": "code",
   "execution_count": 4,
   "metadata": {},
   "outputs": [],
   "source": []
  },
  {
   "cell_type": "markdown",
   "metadata": {},
   "source": [
    "Exercise Question 7: String characters balance Test"
   ]
  },
  {
   "cell_type": "code",
   "execution_count": 3,
   "metadata": {},
   "outputs": [
    {
     "name": "stdout",
     "output_type": "stream",
     "text": [
      "true\n",
      "false\n"
     ]
    }
   ],
   "source": [
    "def strbal(s1,s2):\n",
    "    if s1 in s2:\n",
    "        print('true')\n",
    "    else:\n",
    "        print('false')\n",
    "        \n",
    "strbal('yn','pynative')\n",
    "strbal('ch','nikhil')"
   ]
  },
  {
   "cell_type": "markdown",
   "metadata": {},
   "source": [
    "Exercise Question 8: Find all occurrences of “USA” in given string ignoring the case"
   ]
  },
  {
   "cell_type": "code",
   "execution_count": 8,
   "metadata": {},
   "outputs": [
    {
     "name": "stdout",
     "output_type": "stream",
     "text": [
      "The USA count is: 2\n"
     ]
    }
   ],
   "source": [
    "inputString = \"Welcome to USA. usa awesome, isn't it?\"\n",
    "substring = \"usa\"\n",
    "tempString = inputString.lower()\n",
    "tempString \n",
    "count = tempString.count(substring)\n",
    "print(\"The USA count is:\", count)"
   ]
  },
  {
   "cell_type": "code",
   "execution_count": null,
   "metadata": {},
   "outputs": [],
   "source": []
  },
  {
   "cell_type": "markdown",
   "metadata": {},
   "source": [
    "Exercise Question 9: Given a string, return the sum and average of the digits that appear in the string, ignoring all other characters"
   ]
  },
  {
   "cell_type": "code",
   "execution_count": null,
   "metadata": {},
   "outputs": [],
   "source": [
    "while True:\n",
    "    s=input('enter a subjects')\n",
    "    m=input('enter marks of the subjects')\n",
    "s1=sum(m)\n",
    "p1=sum()\n",
    "\n",
    "    "
   ]
  },
  {
   "cell_type": "code",
   "execution_count": null,
   "metadata": {},
   "outputs": [],
   "source": []
  },
  {
   "cell_type": "code",
   "execution_count": null,
   "metadata": {},
   "outputs": [],
   "source": []
  },
  {
   "cell_type": "code",
   "execution_count": null,
   "metadata": {},
   "outputs": [],
   "source": []
  },
  {
   "cell_type": "code",
   "execution_count": null,
   "metadata": {},
   "outputs": [],
   "source": []
  },
  {
   "cell_type": "code",
   "execution_count": null,
   "metadata": {},
   "outputs": [],
   "source": []
  },
  {
   "cell_type": "code",
   "execution_count": null,
   "metadata": {},
   "outputs": [],
   "source": []
  },
  {
   "cell_type": "code",
   "execution_count": null,
   "metadata": {},
   "outputs": [],
   "source": [
    "\n",
    "        \n",
    "    \n",
    "    \n",
    "    \n"
   ]
  }
 ],
 "metadata": {
  "kernelspec": {
   "display_name": "Python 3",
   "language": "python",
   "name": "python3"
  },
  "language_info": {
   "codemirror_mode": {
    "name": "ipython",
    "version": 3
   },
   "file_extension": ".py",
   "mimetype": "text/x-python",
   "name": "python",
   "nbconvert_exporter": "python",
   "pygments_lexer": "ipython3",
   "version": "3.7.1"
  }
 },
 "nbformat": 4,
 "nbformat_minor": 2
}
